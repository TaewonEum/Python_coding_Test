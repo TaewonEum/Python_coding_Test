{
 "cells": [
  {
   "cell_type": "code",
   "execution_count": 1,
   "id": "8dc24971-e283-4dfb-af49-ab6f93c51834",
   "metadata": {
    "tags": []
   },
   "outputs": [
    {
     "name": "stdin",
     "output_type": "stream",
     "text": [
      " 2 4 1 5 3 2 6\n",
      " 3 5 1 8 7 1 7\n",
      " 8 3 2 7 1 3 8\n",
      " 6 1 2 3 2 1 1\n",
      " 1 3 1 3 5 3 2\n",
      " 1 1 2 5 6 5 2\n",
      " 1 2 2 2 2 1 5\n"
     ]
    }
   ],
   "source": [
    "A=[list(map(int,input().split())) for _ in range(7)]\n",
    "\n",
    "cnt=0\n",
    "for i in A:\n",
    "    for j in range(3):\n",
    "        if i[j:j+5]==list(reversed(i[j:j+5])):\n",
    "            cnt+=1\n",
    "        else:\n",
    "            pass\n",
    "        \n",
    "for i in zip(*A):\n",
    "    for j in range(3):\n",
    "        if list(i[j:j+5])==list(reversed(i[j:j+5])):\n",
    "            cnt+=1\n",
    "        else:\n",
    "            pass\n",
    "    \n",
    "print(cnt)"
   ]
  }
 ],
 "metadata": {
  "kernelspec": {
   "display_name": "Python 3 (ipykernel)",
   "language": "python",
   "name": "python3"
  },
  "language_info": {
   "codemirror_mode": {
    "name": "ipython",
    "version": 3
   },
   "file_extension": ".py",
   "mimetype": "text/x-python",
   "name": "python",
   "nbconvert_exporter": "python",
   "pygments_lexer": "ipython3",
   "version": "3.7.15"
  }
 },
 "nbformat": 4,
 "nbformat_minor": 5
}
