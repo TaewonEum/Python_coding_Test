{
 "cells": [
  {
   "cell_type": "code",
   "execution_count": 18,
   "id": "8bd3143a-6779-44b7-86db-49d46fd70824",
   "metadata": {
    "tags": []
   },
   "outputs": [
    {
     "name": "stdin",
     "output_type": "stream",
     "text": [
      " 3\n",
      " 1 3 5\n",
      " 5\n",
      " 2 3 6 7 9\n"
     ]
    }
   ],
   "source": [
    "import sys\n",
    "result=[]\n",
    "for i in range(2):\n",
    "    N=int(input())\n",
    "    A=list(map(int,input().split()))\n",
    "    result+=A\n",
    "result.sort()\n",
    "print(*result)"
   ]
  },
  {
   "cell_type": "code",
   "execution_count": null,
   "id": "87bad181-c9be-4b69-9172-4110b06a771b",
   "metadata": {},
   "outputs": [],
   "source": []
  }
 ],
 "metadata": {
  "kernelspec": {
   "display_name": "Python 3 (ipykernel)",
   "language": "python",
   "name": "python3"
  },
  "language_info": {
   "codemirror_mode": {
    "name": "ipython",
    "version": 3
   },
   "file_extension": ".py",
   "mimetype": "text/x-python",
   "name": "python",
   "nbconvert_exporter": "python",
   "pygments_lexer": "ipython3",
   "version": "3.7.15"
  }
 },
 "nbformat": 4,
 "nbformat_minor": 5
}
