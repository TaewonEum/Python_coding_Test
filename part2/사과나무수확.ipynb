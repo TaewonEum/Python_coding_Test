{
 "cells": [
  {
   "cell_type": "code",
   "execution_count": 37,
   "id": "18e4f41a-62a9-44f2-8fbe-3c2c937c13d5",
   "metadata": {
    "tags": []
   },
   "outputs": [
    {
     "name": "stdin",
     "output_type": "stream",
     "text": [
      " 7\n",
      " 74 10 31 26 59 16 89 \n",
      " 78 44 49 1 64 33 15\n",
      " 9 95 70 18 22 25 40\n",
      " 62 77 28 3 78 75 23\n",
      " 82 38 20 16 42 1 79\n",
      " 1 24 2 25 95 26 79\n",
      " 4 35 46 94 70 44 83\n"
     ]
    }
   ],
   "source": [
    "import sys\n",
    "\n",
    "N=int(input())\n",
    "A=[list(map(int,input().split())) for _ in range(N)]\n",
    "\n",
    "start=N//2\n",
    "sum_apple=sum(A[start])\n",
    "for i in range(N//2):\n",
    "    sum_apple+=sum(A[i][start-i:start+i+1])\n",
    "    sum_apple+=sum(A[-i-1][start-i:start+i+1])\n",
    "print(sum_apple)"
   ]
  },
  {
   "cell_type": "code",
   "execution_count": null,
   "id": "8b3a9283-b45c-41fa-89a6-f88a80998d0a",
   "metadata": {},
   "outputs": [],
   "source": []
  }
 ],
 "metadata": {
  "kernelspec": {
   "display_name": "Python 3 (ipykernel)",
   "language": "python",
   "name": "python3"
  },
  "language_info": {
   "codemirror_mode": {
    "name": "ipython",
    "version": 3
   },
   "file_extension": ".py",
   "mimetype": "text/x-python",
   "name": "python",
   "nbconvert_exporter": "python",
   "pygments_lexer": "ipython3",
   "version": "3.7.15"
  }
 },
 "nbformat": 4,
 "nbformat_minor": 5
}
