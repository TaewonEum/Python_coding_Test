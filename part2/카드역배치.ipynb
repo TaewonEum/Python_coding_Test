{
 "cells": [
  {
   "cell_type": "code",
   "execution_count": 29,
   "id": "64a14e47-f7f5-4cf8-8173-d5e74c50b8da",
   "metadata": {
    "tags": []
   },
   "outputs": [
    {
     "name": "stdin",
     "output_type": "stream",
     "text": [
      " 5 10\n",
      " 9 13\n",
      " 1 2\n",
      " 3 4\n",
      " 5 6\n",
      " 1 2\n",
      " 3 4\n",
      " 5 6\n",
      " 1 20\n",
      " 1 20\n"
     ]
    },
    {
     "name": "stdout",
     "output_type": "stream",
     "text": [
      "[1, 2, 3, 4, 10, 9, 8, 7, 13, 12, 11, 5, 6, 14, 15, 16, 17, 18, 19, 20]\n"
     ]
    }
   ],
   "source": [
    "A=list(range(1,21))\n",
    "for i in range(10):\n",
    "    N,M=map(int,input().split())\n",
    "    C=A[N-1:M]\n",
    "    C=C[::-1]\n",
    "    A[N-1:M]=C\n",
    "print(*A)"
   ]
  },
  {
   "cell_type": "code",
   "execution_count": null,
   "id": "21c7b84b-e44d-4b96-83d3-7f3666c3e9f4",
   "metadata": {},
   "outputs": [],
   "source": []
  }
 ],
 "metadata": {
  "kernelspec": {
   "display_name": "Python 3 (ipykernel)",
   "language": "python",
   "name": "python3"
  },
  "language_info": {
   "codemirror_mode": {
    "name": "ipython",
    "version": 3
   },
   "file_extension": ".py",
   "mimetype": "text/x-python",
   "name": "python",
   "nbconvert_exporter": "python",
   "pygments_lexer": "ipython3",
   "version": "3.7.15"
  }
 },
 "nbformat": 4,
 "nbformat_minor": 5
}
