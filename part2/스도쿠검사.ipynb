{
 "cells": [
  {
   "cell_type": "code",
   "execution_count": 10,
   "id": "137c39bc-5927-48a9-bf22-ba1bd4806b82",
   "metadata": {
    "tags": []
   },
   "outputs": [
    {
     "name": "stdin",
     "output_type": "stream",
     "text": [
      " 1 2 3 4 5 6 7 8 9\n",
      " 2 1 4 3 6 5 8 9 7\n",
      " 3 4 1 2 7 8 9 5 6 \n",
      " 4 3 2 1 8 9 6 7 5\n",
      " 5 6 7 8 9 1 2 3 4\n",
      " 6 5 8 9 1 7 3 4 2\n",
      " 7 8 9 5 2 3 4 6 1\n",
      " 8 9 6 7 4 2 5 1 3\n",
      " 9 7 5 6 3 4 1 2 8\n"
     ]
    }
   ],
   "source": [
    "A=[list(map(int,input().split())) for _ in range(9)]"
   ]
  },
  {
   "cell_type": "code",
   "execution_count": 46,
   "id": "236c9c52-049b-4e7b-a1b4-e7cfd36c0bad",
   "metadata": {
    "tags": []
   },
   "outputs": [
    {
     "name": "stdout",
     "output_type": "stream",
     "text": [
      "NO\n"
     ]
    }
   ],
   "source": [
    "cnt=0\n",
    "#행검사\n",
    "for i in A:\n",
    "    if len(set(i))==9:\n",
    "        pass\n",
    "    else:\n",
    "        cnt+=1\n",
    "        #print('NO')\n",
    "        break\n",
    "#열검사    \n",
    "for i in zip(*A):\n",
    "    if len(set(i))==9:\n",
    "        pass\n",
    "    else:\n",
    "        cnt+=1\n",
    "        #print('NO')\n",
    "        break\n",
    "\n",
    "#3x3 사각형 검사\n",
    "B=[]\n",
    "for i in [0,3,6]:\n",
    "    a=[]\n",
    "    b=[]\n",
    "    c=[]\n",
    "    for j in range(i,i+3):\n",
    "        a.extend(A[j][0:3])\n",
    "        b.extend(A[j][3:6])\n",
    "        c.extend(A[j][6:9])\n",
    "    if len(set(a))!=9 or len(set(b))!=9 or len(set(c))!=9:\n",
    "        cnt+=1\n",
    "        #print('NO')\n",
    "        break\n",
    "    else:\n",
    "        pass\n",
    "    \n",
    "if cnt==0:\n",
    "    print('YES')\n",
    "else:\n",
    "    print('NO')"
   ]
  }
 ],
 "metadata": {
  "kernelspec": {
   "display_name": "Python 3 (ipykernel)",
   "language": "python",
   "name": "python3"
  },
  "language_info": {
   "codemirror_mode": {
    "name": "ipython",
    "version": 3
   },
   "file_extension": ".py",
   "mimetype": "text/x-python",
   "name": "python",
   "nbconvert_exporter": "python",
   "pygments_lexer": "ipython3",
   "version": "3.7.15"
  }
 },
 "nbformat": 4,
 "nbformat_minor": 5
}
