{
 "cells": [
  {
   "cell_type": "code",
   "execution_count": 23,
   "id": "84010eae-83c4-4a99-95c7-5a73db48fc47",
   "metadata": {
    "tags": []
   },
   "outputs": [
    {
     "name": "stdin",
     "output_type": "stream",
     "text": [
      " 5\n",
      " 10 13 10 12 15\n",
      " 12 39 30 23 11\n",
      " 11 25 50 53 15\n",
      " 19 27 29 37 27\n",
      " 19 13 30 13 19\n"
     ]
    },
    {
     "name": "stdout",
     "output_type": "stream",
     "text": [
      "155\n"
     ]
    }
   ],
   "source": [
    "N=int(input())\n",
    "A=[]\n",
    "sum_list=[]\n",
    "right=0\n",
    "left=0\n",
    "# 리스트 합치기 및 각 행의 합계 구하기\n",
    "for i in range(N):\n",
    "    B=list(map(int,input().split()))\n",
    "    sum_list.append(sum(B))\n",
    "    right+=B[i]\n",
    "    left+=B[N-1-i]\n",
    "    A.append(B)\n",
    "    \n",
    "# 각 열의 합 구하기\n",
    "for i in zip(*A): #리스트 열로뽑기 기억하기\n",
    "    sum_list.append(sum(i)) \n",
    "\n",
    "sum_list.append(right)\n",
    "sum_list.append(left)\n",
    "\n",
    "print(max(sum_list))"
   ]
  },
  {
   "cell_type": "code",
   "execution_count": null,
   "id": "98006fa0-0d45-417e-9cc5-6eaa9f018c4e",
   "metadata": {},
   "outputs": [],
   "source": []
  }
 ],
 "metadata": {
  "kernelspec": {
   "display_name": "Python 3 (ipykernel)",
   "language": "python",
   "name": "python3"
  },
  "language_info": {
   "codemirror_mode": {
    "name": "ipython",
    "version": 3
   },
   "file_extension": ".py",
   "mimetype": "text/x-python",
   "name": "python",
   "nbconvert_exporter": "python",
   "pygments_lexer": "ipython3",
   "version": "3.7.15"
  }
 },
 "nbformat": 4,
 "nbformat_minor": 5
}
