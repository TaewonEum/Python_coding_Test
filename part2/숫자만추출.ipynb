{
 "cells": [
  {
   "cell_type": "code",
   "execution_count": 1,
   "id": "5c3dc774-9d06-4e53-b9b9-68006d3fc970",
   "metadata": {
    "tags": []
   },
   "outputs": [
    {
     "name": "stdin",
     "output_type": "stream",
     "text": [
      " kdk1k0kdjfkj0kkdjkfj0fkd\n"
     ]
    },
    {
     "name": "stdout",
     "output_type": "stream",
     "text": [
      "1000\n",
      "16\n"
     ]
    }
   ],
   "source": [
    "N=input()\n",
    "length=len(N)\n",
    "result=''\n",
    "for i in range(length):\n",
    "    if N[i].isdigit():\n",
    "        result+=N[i]\n",
    "result=int(result)\n",
    "cnt=1\n",
    "for i in range(1,result//2+1):\n",
    "    if result%i==0:\n",
    "        cnt+=1\n",
    "    else:\n",
    "        pass\n",
    "print(result)\n",
    "print(cnt)\n"
   ]
  },
  {
   "cell_type": "code",
   "execution_count": 19,
   "id": "ab3e1caf-7ac3-4b37-9320-27bea05dfe3c",
   "metadata": {},
   "outputs": [
    {
     "name": "stdin",
     "output_type": "stream",
     "text": [
      " g0en2Ts8eSoft\n"
     ]
    },
    {
     "name": "stdout",
     "output_type": "stream",
     "text": [
      "28\n",
      "28\n",
      "6\n"
     ]
    }
   ],
   "source": [
    "N=input()\n",
    "res=0\n",
    "for i in N:\n",
    "    if i.isdecimal():\n",
    "        res=res*10+int(i)\n",
    "print(res)\n",
    "cnt=0\n",
    "for i in range(1,res+1):\n",
    "    if result%i==0:\n",
    "        cnt+=1\n",
    "    else:\n",
    "        pass\n",
    "print(result)\n",
    "print(cnt)\n"
   ]
  },
  {
   "cell_type": "code",
   "execution_count": null,
   "id": "98333626-cd35-4789-9dc2-59f3e4454b32",
   "metadata": {},
   "outputs": [],
   "source": []
  }
 ],
 "metadata": {
  "kernelspec": {
   "display_name": "Python 3 (ipykernel)",
   "language": "python",
   "name": "python3"
  },
  "language_info": {
   "codemirror_mode": {
    "name": "ipython",
    "version": 3
   },
   "file_extension": ".py",
   "mimetype": "text/x-python",
   "name": "python",
   "nbconvert_exporter": "python",
   "pygments_lexer": "ipython3",
   "version": "3.7.15"
  }
 },
 "nbformat": 4,
 "nbformat_minor": 5
}
