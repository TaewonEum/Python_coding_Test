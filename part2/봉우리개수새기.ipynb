{
 "cells": [
  {
   "cell_type": "code",
   "execution_count": 2,
   "id": "2b6507f0-4036-49ec-8a6e-ffc69de3b317",
   "metadata": {
    "tags": []
   },
   "outputs": [
    {
     "name": "stdin",
     "output_type": "stream",
     "text": [
      " 5\n",
      " 5 3 7 2 3\n",
      " 3 7 1 6 1\n",
      " 7 2 5 3 4\n",
      " 4 3 6 4 1\n",
      " 8 7 3 5 2\n"
     ]
    }
   ],
   "source": [
    "import sys\n",
    "N=int(input())\n",
    "A=[list(map(int,input().split())) for _ in range(N)]\n",
    "\n",
    "A.insert(0,[0]*N)\n",
    "A.append([0]*N)\n",
    "\n",
    "for x in A:\n",
    "    x.insert(0,0)\n",
    "    x.append(0)\n",
    "    \n",
    "cnt=0\n",
    "for i in range(1,N+1):\n",
    "    for j in range(1,N+1):\n",
    "        if A[i][j]>A[i][j-1] and A[i][j] > A[i][j+1] and A[i][j] > A[i-1][j] and A[i][j] > A[i+1][j]:\n",
    "            cnt+=1\n",
    "        else:\n",
    "            pass\n",
    "print(cnt)"
   ]
  }
 ],
 "metadata": {
  "kernelspec": {
   "display_name": "Python 3 (ipykernel)",
   "language": "python",
   "name": "python3"
  },
  "language_info": {
   "codemirror_mode": {
    "name": "ipython",
    "version": 3
   },
   "file_extension": ".py",
   "mimetype": "text/x-python",
   "name": "python",
   "nbconvert_exporter": "python",
   "pygments_lexer": "ipython3",
   "version": "3.7.15"
  }
 },
 "nbformat": 4,
 "nbformat_minor": 5
}
