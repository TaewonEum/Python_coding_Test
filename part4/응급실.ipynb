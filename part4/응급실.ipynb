{
 "cells": [
  {
   "cell_type": "code",
   "execution_count": 47,
   "id": "9cc2dfdc-dea4-43da-82dd-3485dd5e4f83",
   "metadata": {
    "tags": []
   },
   "outputs": [
    {
     "name": "stdin",
     "output_type": "stream",
     "text": [
      " 6 0\n",
      " 1000 9\n"
     ]
    },
    {
     "name": "stdout",
     "output_type": "stream",
     "text": [
      "1\n"
     ]
    }
   ],
   "source": [
    "#내 풀이\n",
    "from collections import deque\n",
    "N,M=map(int,input().split())\n",
    "A=list(map(int,input().split()))\n",
    "A=[(idx,val) for idx, val in enumerate(A)]\n",
    "A=deque(A)\n",
    "cnt=0\n",
    "goal=A[M]\n",
    "\n",
    "while A:\n",
    "    if max(A, key=lambda x:x[1])==goal:\n",
    "        break\n",
    "    if A[0]==max(A,key=lambda x:x[1]):\n",
    "        cnt+=1\n",
    "        A.popleft()\n",
    "    else:\n",
    "        A.append(A.popleft())  \n",
    "print(cnt+1)"
   ]
  },
  {
   "cell_type": "code",
   "execution_count": null,
   "id": "1351b3ff-d809-4d67-a9df-9a3e8c08bda9",
   "metadata": {},
   "outputs": [],
   "source": []
  }
 ],
 "metadata": {
  "kernelspec": {
   "display_name": "Python 3 (ipykernel)",
   "language": "python",
   "name": "python3"
  },
  "language_info": {
   "codemirror_mode": {
    "name": "ipython",
    "version": 3
   },
   "file_extension": ".py",
   "mimetype": "text/x-python",
   "name": "python",
   "nbconvert_exporter": "python",
   "pygments_lexer": "ipython3",
   "version": "3.7.15"
  }
 },
 "nbformat": 4,
 "nbformat_minor": 5
}
