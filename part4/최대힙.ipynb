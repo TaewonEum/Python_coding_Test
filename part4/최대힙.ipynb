{
 "cells": [
  {
   "cell_type": "code",
   "execution_count": null,
   "id": "896b1bbf-81c4-4862-b939-e9c3cc937a69",
   "metadata": {},
   "outputs": [],
   "source": [
    "import heapq as hq\n",
    "\n",
    "heap=[]\n",
    "while True:\n",
    "    a=int(input())\n",
    "    if a==-1:\n",
    "        break\n",
    "    else:\n",
    "        if a==0:\n",
    "            print(-hq.heappop(heap))\n",
    "        else:\n",
    "            hq.heappush(heap,-a)\n",
    "    "
   ]
  }
 ],
 "metadata": {
  "kernelspec": {
   "display_name": "Python 3 (ipykernel)",
   "language": "python",
   "name": "python3"
  },
  "language_info": {
   "codemirror_mode": {
    "name": "ipython",
    "version": 3
   },
   "file_extension": ".py",
   "mimetype": "text/x-python",
   "name": "python",
   "nbconvert_exporter": "python",
   "pygments_lexer": "ipython3",
   "version": "3.7.15"
  }
 },
 "nbformat": 4,
 "nbformat_minor": 5
}
