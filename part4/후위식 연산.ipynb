{
 "cells": [
  {
   "cell_type": "code",
   "execution_count": 34,
   "id": "15337d90-2dca-465d-bba5-b77e2e9dd9cd",
   "metadata": {
    "tags": []
   },
   "outputs": [
    {
     "name": "stdin",
     "output_type": "stream",
     "text": [
      " 573*+5-323*++\n"
     ]
    },
    {
     "name": "stdout",
     "output_type": "stream",
     "text": [
      "30\n"
     ]
    }
   ],
   "source": [
    "s=input()\n",
    "number=[]\n",
    "\n",
    "for i in s:\n",
    "    if i.isdigit():\n",
    "        number.append(int(i))\n",
    "        \n",
    "    else:\n",
    "        result=[]\n",
    "        for _ in range(2):\n",
    "            result.append(number.pop())\n",
    "            \n",
    "        if i=='+':\n",
    "            answer=result[1]+result[0]\n",
    "            number.append(answer)\n",
    "            \n",
    "        elif i=='-':\n",
    "            answer=result[1]-result[0]\n",
    "            number.append(answer)\n",
    "            \n",
    "        elif i=='*':\n",
    "            answer=result[1]*result[0]\n",
    "            number.append(answer)\n",
    "            \n",
    "        elif i=='/':\n",
    "            answer=result[1]/result[0]\n",
    "            number.append(answer)\n",
    "            \n",
    "print(*number)    "
   ]
  },
  {
   "cell_type": "code",
   "execution_count": null,
   "id": "8b19eccc-6e02-4a28-be2c-78b220ab6c24",
   "metadata": {},
   "outputs": [],
   "source": []
  }
 ],
 "metadata": {
  "kernelspec": {
   "display_name": "Python 3 (ipykernel)",
   "language": "python",
   "name": "python3"
  },
  "language_info": {
   "codemirror_mode": {
    "name": "ipython",
    "version": 3
   },
   "file_extension": ".py",
   "mimetype": "text/x-python",
   "name": "python",
   "nbconvert_exporter": "python",
   "pygments_lexer": "ipython3",
   "version": "3.7.15"
  }
 },
 "nbformat": 4,
 "nbformat_minor": 5
}
