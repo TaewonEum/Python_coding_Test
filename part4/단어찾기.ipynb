{
 "cells": [
  {
   "cell_type": "code",
   "execution_count": 29,
   "id": "3f2c1c36-e6d2-4182-81af-f060664423c3",
   "metadata": {
    "tags": []
   },
   "outputs": [
    {
     "name": "stdin",
     "output_type": "stream",
     "text": [
      " 5\n",
      " big\n",
      " sky\n",
      " good\n",
      " blue\n",
      " mouse\n",
      " big\n",
      " sky\n",
      " good\n",
      " mouse\n"
     ]
    },
    {
     "name": "stdout",
     "output_type": "stream",
     "text": [
      "blue\n"
     ]
    }
   ],
   "source": [
    "n=int(input())\n",
    "result=dict()\n",
    "\n",
    "for i in range(n):\n",
    "    word=input()\n",
    "    result[word]=1\n",
    "    \n",
    "for i in range(n-1):\n",
    "    word=input()\n",
    "    result[word]-=1\n",
    "\n",
    "for i in result:\n",
    "    if result[i]==1:\n",
    "        print(i)\n",
    "        break\n"
   ]
  },
  {
   "cell_type": "code",
   "execution_count": null,
   "id": "e8a82ca6-c156-425c-ac61-188e25946d88",
   "metadata": {},
   "outputs": [],
   "source": []
  }
 ],
 "metadata": {
  "kernelspec": {
   "display_name": "Python 3 (ipykernel)",
   "language": "python",
   "name": "python3"
  },
  "language_info": {
   "codemirror_mode": {
    "name": "ipython",
    "version": 3
   },
   "file_extension": ".py",
   "mimetype": "text/x-python",
   "name": "python",
   "nbconvert_exporter": "python",
   "pygments_lexer": "ipython3",
   "version": "3.7.15"
  }
 },
 "nbformat": 4,
 "nbformat_minor": 5
}
