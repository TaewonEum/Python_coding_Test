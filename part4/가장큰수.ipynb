{
 "cells": [
  {
   "cell_type": "code",
   "execution_count": 52,
   "id": "abc20167-b2e3-429c-876e-91204348ea1f",
   "metadata": {
    "tags": []
   },
   "outputs": [
    {
     "name": "stdin",
     "output_type": "stream",
     "text": [
      " 948096783986983 5\n"
     ]
    },
    {
     "name": "stdout",
     "output_type": "stream",
     "text": [
      "9983986983\n"
     ]
    }
   ],
   "source": [
    "#내 풀이\n",
    "A,N=map(int,input().split())\n",
    "A=list(str(A))\n",
    "A=list(map(int,A))\n",
    "\n",
    "cnt=0\n",
    "remove_list=[]\n",
    "start=A[0]\n",
    "for i in range(1,len(A)):\n",
    "    if cnt==N:\n",
    "        break\n",
    "    else:\n",
    "        if start>A[i]:\n",
    "            cnt+=1\n",
    "            remove_list.append(A[i])\n",
    "        elif start<A[i]:\n",
    "            cnt+=1\n",
    "            remove_list.append(start)\n",
    "            start=A[i]\n",
    "for i in remove_list:\n",
    "    A.remove(i)\n",
    "    \n",
    "print(*A,sep='')"
   ]
  },
  {
   "cell_type": "code",
   "execution_count": 3,
   "id": "98ac97f8-a515-477f-bbf9-0d119b6a92f6",
   "metadata": {
    "tags": []
   },
   "outputs": [
    {
     "name": "stdin",
     "output_type": "stream",
     "text": [
      " 948096783986983 5\n"
     ]
    },
    {
     "name": "stdout",
     "output_type": "stream",
     "text": [
      "9 [9] 5\n",
      "4 [9, 4] 5\n",
      "8 [9, 8] 4\n",
      "0 [9, 8, 0] 4\n",
      "9 [9, 9] 2\n",
      "6 [9, 9, 6] 2\n",
      "7 [9, 9, 7] 1\n",
      "8 [9, 9, 8] 0\n",
      "3 [9, 9, 8, 3] 0\n",
      "9 [9, 9, 8, 3, 9] 0\n",
      "8 [9, 9, 8, 3, 9, 8] 0\n",
      "6 [9, 9, 8, 3, 9, 8, 6] 0\n",
      "9 [9, 9, 8, 3, 9, 8, 6, 9] 0\n",
      "8 [9, 9, 8, 3, 9, 8, 6, 9, 8] 0\n",
      "3 [9, 9, 8, 3, 9, 8, 6, 9, 8, 3] 0\n",
      "9983986983\n"
     ]
    }
   ],
   "source": [
    "#내 풀이\n",
    "A,N=map(int,input().split())\n",
    "A=list(str(A))\n",
    "A=list(map(int,A))\n",
    "\n",
    "stack=[]\n",
    "for i in A:\n",
    "    while stack and N>0 and stack[-1]<i: #stack이 비어있지않고 m이 0보다크고 stack 마지막값이 현재 i값보다 작으면 stack 비어있으면 걍 넘어감\n",
    "        stack.pop() #stack 마지막 자료 삭제\n",
    "        N-=1\n",
    "    stack.append(i) #다 지우고 값 채우기\n",
    "    print(i,stack,N)\n",
    "if N>0:\n",
    "    stack=stack[:-N]\n",
    "    print(*stack,sep='')\n",
    "else:\n",
    "    pass\n",
    "    print(*stack,sep='')"
   ]
  },
  {
   "cell_type": "code",
   "execution_count": null,
   "id": "4a317906-c566-4497-a515-8e34b79481ee",
   "metadata": {},
   "outputs": [],
   "source": []
  }
 ],
 "metadata": {
  "kernelspec": {
   "display_name": "Python 3 (ipykernel)",
   "language": "python",
   "name": "python3"
  },
  "language_info": {
   "codemirror_mode": {
    "name": "ipython",
    "version": 3
   },
   "file_extension": ".py",
   "mimetype": "text/x-python",
   "name": "python",
   "nbconvert_exporter": "python",
   "pygments_lexer": "ipython3",
   "version": "3.7.15"
  }
 },
 "nbformat": 4,
 "nbformat_minor": 5
}
