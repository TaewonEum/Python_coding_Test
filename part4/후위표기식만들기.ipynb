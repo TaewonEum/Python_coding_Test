{
 "cells": [
  {
   "cell_type": "code",
   "execution_count": 35,
   "id": "a72bd9c7-ef25-4cf1-a226-b34d1a32e088",
   "metadata": {
    "tags": []
   },
   "outputs": [
    {
     "name": "stdout",
     "output_type": "stream",
     "text": [
      "35+2*\n"
     ]
    }
   ],
   "source": [
    "s=input()\n",
    "stack=[]\n",
    "a=''\n",
    "\n",
    "for i in s:\n",
    "    if i.isdigit():\n",
    "        a+=i\n",
    "        \n",
    "    else:\n",
    "        if i=='(':\n",
    "            stack.append(i)\n",
    "            \n",
    "        elif i==')':\n",
    "            while stack and stack[-1]!='(': #'('가 나올떄까지\n",
    "                a+=stack.pop() #나올떄까지 pop\n",
    "            stack.pop() #맞을땐 그냥 pop\n",
    "            \n",
    "        elif i=='+' or i=='-':\n",
    "            while stack and stack[-1]!='(':\n",
    "                a+=stack.pop()\n",
    "            stack.append(i) #괄호시작일땐 바로 append, while문 종료 후 i는 무조건 append\n",
    "        \n",
    "        elif i=='*' or i=='/':\n",
    "            while stack and (stack[-1]=='*' or stack[-1]=='/'):\n",
    "                a+=stack.pop() #맨뒤가 곱하기나 나누기이면 바로 pop\n",
    "            stack.append(i)  #앞이 +,-면 그냥 append하거나 while문 종료후 i는 무조건 append\n",
    "while stack:\n",
    "    a+=stack.pop()\n",
    "    \n",
    "print(a)"
   ]
  }
 ],
 "metadata": {
  "kernelspec": {
   "display_name": "Python 3 (ipykernel)",
   "language": "python",
   "name": "python3"
  },
  "language_info": {
   "codemirror_mode": {
    "name": "ipython",
    "version": 3
   },
   "file_extension": ".py",
   "mimetype": "text/x-python",
   "name": "python",
   "nbconvert_exporter": "python",
   "pygments_lexer": "ipython3",
   "version": "3.7.15"
  }
 },
 "nbformat": 4,
 "nbformat_minor": 5
}
