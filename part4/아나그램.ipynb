{
 "cells": [
  {
   "cell_type": "code",
   "execution_count": 22,
   "id": "a51d4dff-5c96-4cae-8ab4-62bdd3f96b2d",
   "metadata": {
    "tags": []
   },
   "outputs": [
    {
     "name": "stdin",
     "output_type": "stream",
     "text": [
      " ABCDqtqtqEFqGHIJKLMNOPQRSTUVWetagdgXYabcdefghijklmnopqrstuwxyz\n",
      " aBcdewrqwtqFghIJklMnOpqrsTuegagaeVxyYAbCDEfGHijKLmNoPQRStUwWXz\n"
     ]
    },
    {
     "name": "stdout",
     "output_type": "stream",
     "text": [
      "NO\n"
     ]
    }
   ],
   "source": [
    "A=input()\n",
    "B=input()\n",
    "result=dict()\n",
    "for i in A:\n",
    "    if i in result:\n",
    "        result[i]+=1\n",
    "    else:\n",
    "        result[i]=1\n",
    "        \n",
    "for i in B:\n",
    "    if i in result:\n",
    "        result[i]-=1\n",
    "    else:\n",
    "        pass\n",
    "   \n",
    "count=0\n",
    "\n",
    "for i in result.values():\n",
    "    if i!=0:\n",
    "        count+=1\n",
    "        print('NO')\n",
    "        break\n",
    "if count==0:\n",
    "    print('YES')"
   ]
  },
  {
   "cell_type": "code",
   "execution_count": null,
   "id": "000fb392-459e-4ee9-8de8-b706d15c3faf",
   "metadata": {},
   "outputs": [],
   "source": []
  }
 ],
 "metadata": {
  "kernelspec": {
   "display_name": "Python 3 (ipykernel)",
   "language": "python",
   "name": "python3"
  },
  "language_info": {
   "codemirror_mode": {
    "name": "ipython",
    "version": 3
   },
   "file_extension": ".py",
   "mimetype": "text/x-python",
   "name": "python",
   "nbconvert_exporter": "python",
   "pygments_lexer": "ipython3",
   "version": "3.7.15"
  }
 },
 "nbformat": 4,
 "nbformat_minor": 5
}
