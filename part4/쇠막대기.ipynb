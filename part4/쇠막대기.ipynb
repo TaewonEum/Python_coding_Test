{
 "cells": [
  {
   "cell_type": "code",
   "execution_count": 18,
   "id": "fad78df7-b61c-4f6f-bff8-76d3e75bbb92",
   "metadata": {
    "tags": []
   },
   "outputs": [
    {
     "name": "stdin",
     "output_type": "stream",
     "text": [
      " ()(((()())(())()))(())\n"
     ]
    },
    {
     "name": "stdout",
     "output_type": "stream",
     "text": [
      "0 ['('] 0\n",
      "1 [] 0\n",
      "2 ['('] 0\n",
      "3 ['(', '('] 0\n",
      "4 ['(', '(', '('] 0\n",
      "5 ['(', '(', '(', '('] 0\n",
      "6 ['(', '(', '('] 3\n",
      "7 ['(', '(', '(', '('] 3\n",
      "8 ['(', '(', '('] 6\n",
      "9 ['(', '('] 7\n",
      "10 ['(', '(', '('] 7\n",
      "11 ['(', '(', '(', '('] 7\n",
      "12 ['(', '(', '('] 10\n",
      "13 ['(', '('] 11\n",
      "14 ['(', '(', '('] 11\n",
      "15 ['(', '('] 13\n",
      "16 ['('] 14\n",
      "17 [] 15\n",
      "18 ['('] 15\n",
      "19 ['(', '('] 15\n",
      "20 ['('] 16\n",
      "21 [] 17\n",
      "17\n"
     ]
    }
   ],
   "source": [
    "s=input()\n",
    "stack=[]\n",
    "cnt=0\n",
    "for i in range(len(s)):\n",
    "    if s[i]=='(':\n",
    "        stack.append(s[i])\n",
    "    else:\n",
    "        stack.pop()\n",
    "        if s[i-1]=='(':\n",
    "            cnt+=len(stack)\n",
    "        else:\n",
    "            cnt+=1\n",
    "\n",
    "print(cnt)"
   ]
  },
  {
   "cell_type": "code",
   "execution_count": null,
   "id": "0f9a7f26-874b-42cb-b3fa-8d03612a3059",
   "metadata": {},
   "outputs": [],
   "source": []
  }
 ],
 "metadata": {
  "kernelspec": {
   "display_name": "Python 3 (ipykernel)",
   "language": "python",
   "name": "python3"
  },
  "language_info": {
   "codemirror_mode": {
    "name": "ipython",
    "version": 3
   },
   "file_extension": ".py",
   "mimetype": "text/x-python",
   "name": "python",
   "nbconvert_exporter": "python",
   "pygments_lexer": "ipython3",
   "version": "3.7.15"
  }
 },
 "nbformat": 4,
 "nbformat_minor": 5
}
