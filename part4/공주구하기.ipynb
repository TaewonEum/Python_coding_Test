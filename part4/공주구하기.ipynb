{
 "cells": [
  {
   "cell_type": "code",
   "execution_count": 78,
   "id": "7ddeeae0-57b9-41bc-9ef5-082c3813ae09",
   "metadata": {
    "tags": []
   },
   "outputs": [
    {
     "name": "stdin",
     "output_type": "stream",
     "text": [
      " 8 3\n"
     ]
    },
    {
     "name": "stdout",
     "output_type": "stream",
     "text": [
      "7\n"
     ]
    }
   ],
   "source": [
    "from collections import deque\n",
    "N,M=map(int,input().split())\n",
    "A=list(range(1,N+1))\n",
    "\n",
    "cnt=0\n",
    "while len(A)!=1:\n",
    "    for i in range(3):\n",
    "        cnt+=1\n",
    "        if cnt==M:\n",
    "            A.pop(0)\n",
    "            cnt=0\n",
    "        else:   \n",
    "            A.append(A.pop(0))\n",
    "print(*A)"
   ]
  }
 ],
 "metadata": {
  "kernelspec": {
   "display_name": "Python 3 (ipykernel)",
   "language": "python",
   "name": "python3"
  },
  "language_info": {
   "codemirror_mode": {
    "name": "ipython",
    "version": 3
   },
   "file_extension": ".py",
   "mimetype": "text/x-python",
   "name": "python",
   "nbconvert_exporter": "python",
   "pygments_lexer": "ipython3",
   "version": "3.7.15"
  }
 },
 "nbformat": 4,
 "nbformat_minor": 5
}
