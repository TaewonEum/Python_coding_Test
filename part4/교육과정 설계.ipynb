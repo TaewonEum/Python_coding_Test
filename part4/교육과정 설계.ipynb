{
 "cells": [
  {
   "cell_type": "code",
   "execution_count": 42,
   "id": "0df9a942-a40f-4bb7-9e47-36d830ef4da7",
   "metadata": {
    "tags": []
   },
   "outputs": [
    {
     "name": "stdin",
     "output_type": "stream",
     "text": [
      " AFFDCCFF\n"
     ]
    },
    {
     "name": "stdout",
     "output_type": "stream",
     "text": [
      "#1 YES\n"
     ]
    }
   ],
   "source": [
    "#내 풀이\n",
    "from collections import deque\n",
    "c_order=str(input())\n",
    "N=int(input())   \n",
    "\n",
    "for i in range(N):\n",
    "    result=''\n",
    "    A=deque(str(input()))\n",
    "    while A:\n",
    "        if A[0] in c_order:\n",
    "            if A[0] in result:\n",
    "                A.popleft()\n",
    "            else:\n",
    "                result+=A.popleft()\n",
    "        else:\n",
    "            A.popleft()\n",
    "    if result==c_order:\n",
    "        print(f'#{i+1} YES')\n",
    "    else:\n",
    "        print(f'#{i+1} NO')"
   ]
  }
 ],
 "metadata": {
  "kernelspec": {
   "display_name": "Python 3 (ipykernel)",
   "language": "python",
   "name": "python3"
  },
  "language_info": {
   "codemirror_mode": {
    "name": "ipython",
    "version": 3
   },
   "file_extension": ".py",
   "mimetype": "text/x-python",
   "name": "python",
   "nbconvert_exporter": "python",
   "pygments_lexer": "ipython3",
   "version": "3.7.15"
  }
 },
 "nbformat": 4,
 "nbformat_minor": 5
}
