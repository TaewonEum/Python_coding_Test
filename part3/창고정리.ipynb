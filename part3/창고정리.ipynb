{
 "cells": [
  {
   "cell_type": "code",
   "execution_count": 1,
   "id": "efefbddd-ce0f-49b4-be4c-59e0e88d5230",
   "metadata": {
    "tags": []
   },
   "outputs": [
    {
     "name": "stdin",
     "output_type": "stream",
     "text": [
      " 10\n",
      " 69 42 68 76 40 87 14 65 76 81\n",
      " 50\n"
     ]
    }
   ],
   "source": [
    "N=int(input())\n",
    "A=list(map(int,input().split()))\n",
    "M=int(input())\n",
    "\n",
    "for _ in range(M):\n",
    "    maxx=max(A)\n",
    "    minn=min(A)\n",
    "    idx=A.index(maxx)\n",
    "    idx_1=A.index(minn)\n",
    "    A[idx]=A[idx]-1\n",
    "    A[idx_1]=A[idx_1]+1\n",
    "    \n",
    "print(max(A)-min(A))"
   ]
  }
 ],
 "metadata": {
  "kernelspec": {
   "display_name": "Python 3 (ipykernel)",
   "language": "python",
   "name": "python3"
  },
  "language_info": {
   "codemirror_mode": {
    "name": "ipython",
    "version": 3
   },
   "file_extension": ".py",
   "mimetype": "text/x-python",
   "name": "python",
   "nbconvert_exporter": "python",
   "pygments_lexer": "ipython3",
   "version": "3.7.15"
  }
 },
 "nbformat": 4,
 "nbformat_minor": 5
}
