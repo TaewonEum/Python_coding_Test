{
 "cells": [
  {
   "cell_type": "code",
   "execution_count": 25,
   "id": "c8ef5d0c-931a-4089-921a-177b40d7885e",
   "metadata": {
    "tags": []
   },
   "outputs": [
    {
     "name": "stdin",
     "output_type": "stream",
     "text": [
      " 5 4 \n",
      " 1 1 1 1 1\n"
     ]
    },
    {
     "name": "stdout",
     "output_type": "stream",
     "text": [
      "2\n"
     ]
    }
   ],
   "source": [
    "N,K=map(int,input().split())\n",
    "\n",
    "A=list(map(int,input().split()))\n",
    "    \n",
    "    \n",
    "def count(mid):\n",
    "    res=0\n",
    "    cnt=1\n",
    "    for i in A:\n",
    "        if res+i>mid:\n",
    "            cnt+=1\n",
    "            res=i\n",
    "        else:\n",
    "            res+=i\n",
    "    return cnt\n",
    "\n",
    "lt=min(A)\n",
    "rt=sum(A)\n",
    "res=0\n",
    "while lt<=rt:\n",
    "    mid=(lt+rt)//2\n",
    "    if mid>=max(A) and count(mid)<=K: #비디오 개수가 K보다 많을경우 lt를 높여야함\n",
    "        res=mid\n",
    "        rt=mid-1\n",
    "    else:\n",
    "        lt=mid+1\n",
    "print(res)"
   ]
  },
  {
   "cell_type": "code",
   "execution_count": 23,
   "id": "3671ef59-8fa3-4d5d-91e5-a5c1b9eefb0b",
   "metadata": {
    "tags": []
   },
   "outputs": [
    {
     "data": {
      "text/plain": [
       "3"
      ]
     },
     "execution_count": 23,
     "metadata": {},
     "output_type": "execute_result"
    }
   ],
   "source": [
    "count(2)"
   ]
  },
  {
   "cell_type": "code",
   "execution_count": 24,
   "id": "759f03b6-28ff-4527-97c3-c07800788d63",
   "metadata": {
    "tags": []
   },
   "outputs": [
    {
     "data": {
      "text/plain": [
       "[1, 1, 1, 1, 1]"
      ]
     },
     "execution_count": 24,
     "metadata": {},
     "output_type": "execute_result"
    }
   ],
   "source": [
    "A"
   ]
  },
  {
   "cell_type": "code",
   "execution_count": 26,
   "id": "6a817ede-9422-408a-b96c-84e131f3f477",
   "metadata": {},
   "outputs": [
    {
     "data": {
      "text/plain": [
       "False"
      ]
     },
     "execution_count": 26,
     "metadata": {},
     "output_type": "execute_result"
    }
   ],
   "source": [
    "5<3"
   ]
  },
  {
   "cell_type": "code",
   "execution_count": null,
   "id": "39f1e2e4-d7b2-4648-a387-b3fbf2eee0e8",
   "metadata": {},
   "outputs": [],
   "source": []
  }
 ],
 "metadata": {
  "kernelspec": {
   "display_name": "Python 3 (ipykernel)",
   "language": "python",
   "name": "python3"
  },
  "language_info": {
   "codemirror_mode": {
    "name": "ipython",
    "version": 3
   },
   "file_extension": ".py",
   "mimetype": "text/x-python",
   "name": "python",
   "nbconvert_exporter": "python",
   "pygments_lexer": "ipython3",
   "version": "3.7.15"
  }
 },
 "nbformat": 4,
 "nbformat_minor": 5
}
