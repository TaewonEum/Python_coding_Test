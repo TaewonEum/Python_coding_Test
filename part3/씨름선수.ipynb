{
 "cells": [
  {
   "cell_type": "code",
   "execution_count": 42,
   "id": "e2b2ff92-32f4-4913-ba7c-1d3c7bd9f0c8",
   "metadata": {
    "tags": []
   },
   "outputs": [
    {
     "name": "stdin",
     "output_type": "stream",
     "text": [
      " 10\n",
      " 177 107\n",
      " 205 88\n",
      " 179 65\n",
      " 165 104\n",
      " 180 50\n",
      " 166 116\n",
      " 199 119\n",
      " 171 70\n",
      " 176 51\n",
      " 207 101\n"
     ]
    },
    {
     "name": "stdout",
     "output_type": "stream",
     "text": [
      "4\n"
     ]
    }
   ],
   "source": [
    "N=int(input())\n",
    "A=[]\n",
    "for _ in range(N):\n",
    "    A.append(list(map(int,input().split())))\n",
    "A=sorted(A,key=lambda x:x[1])\n",
    "\n",
    "cnt=0\n",
    "B=[]\n",
    "for i in range(N-1):\n",
    "    cm=A[i][0]\n",
    "    for j in range(i+1,N):\n",
    "        if cm<A[j][0]:\n",
    "            cnt+=1\n",
    "            B.append(cm)\n",
    "            break\n",
    "        else:\n",
    "            pass\n",
    "    \n",
    "print(N-cnt)  "
   ]
  },
  {
   "cell_type": "code",
   "execution_count": 50,
   "id": "ee319071-b395-4b44-a9bb-208066a900ae",
   "metadata": {
    "tags": []
   },
   "outputs": [
    {
     "name": "stdout",
     "output_type": "stream",
     "text": [
      "2\n"
     ]
    }
   ],
   "source": [
    "cnt=0\n",
    "B=[]\n",
    "for i in range(N-1):\n",
    "    cm=A[i][0]\n",
    "    for j in range(i+1,N):\n",
    "        if cm<A[j][0]:\n",
    "            cnt+=1\n",
    "            B.append(cm)\n",
    "            break\n",
    "        else:\n",
    "            pass\n",
    "    \n",
    "print(N-cnt)  "
   ]
  },
  {
   "cell_type": "code",
   "execution_count": 51,
   "id": "a0057d85-9770-48e1-bc49-a49de6464377",
   "metadata": {
    "tags": []
   },
   "outputs": [
    {
     "data": {
      "text/plain": [
       "[[180, 50],\n",
       " [176, 51],\n",
       " [179, 65],\n",
       " [171, 70],\n",
       " [205, 88],\n",
       " [207, 101],\n",
       " [165, 104],\n",
       " [177, 107],\n",
       " [166, 116],\n",
       " [199, 119]]"
      ]
     },
     "execution_count": 51,
     "metadata": {},
     "output_type": "execute_result"
    }
   ],
   "source": [
    "A"
   ]
  },
  {
   "cell_type": "code",
   "execution_count": 52,
   "id": "a248e89f-77f7-4854-ad12-ca356137764e",
   "metadata": {
    "tags": []
   },
   "outputs": [
    {
     "data": {
      "text/plain": [
       "[180, 176, 179, 171, 205, 165, 177, 166]"
      ]
     },
     "execution_count": 52,
     "metadata": {},
     "output_type": "execute_result"
    }
   ],
   "source": [
    "B"
   ]
  },
  {
   "cell_type": "code",
   "execution_count": null,
   "id": "41d9d90e-cc6a-4c78-b39d-021d29c48002",
   "metadata": {},
   "outputs": [],
   "source": []
  }
 ],
 "metadata": {
  "kernelspec": {
   "display_name": "Python 3 (ipykernel)",
   "language": "python",
   "name": "python3"
  },
  "language_info": {
   "codemirror_mode": {
    "name": "ipython",
    "version": 3
   },
   "file_extension": ".py",
   "mimetype": "text/x-python",
   "name": "python",
   "nbconvert_exporter": "python",
   "pygments_lexer": "ipython3",
   "version": "3.7.15"
  }
 },
 "nbformat": 4,
 "nbformat_minor": 5
}
