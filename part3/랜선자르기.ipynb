{
 "cells": [
  {
   "cell_type": "code",
   "execution_count": 21,
   "id": "c95f5d39-338d-4a32-9a2d-586f68950178",
   "metadata": {
    "tags": []
   },
   "outputs": [
    {
     "name": "stdin",
     "output_type": "stream",
     "text": [
      " 802\n",
      " 743\n",
      " 457\n",
      " 539\n"
     ]
    }
   ],
   "source": [
    "N,K=map(int,input().split())\n",
    "A=[]\n",
    "lt=1\n",
    "for _ in range(N):\n",
    "    A.append(int(input()))\n",
    "    \n",
    "rt=max(A)\n",
    "\n",
    "def count(mid):\n",
    "    cnt=0\n",
    "    for i in A:\n",
    "        cnt+=i//mid\n",
    "    return cnt\n",
    "\n",
    "res=0\n",
    "while lt<=rt:\n",
    "    mid=(lt+rt)//2\n",
    "    if count(mid)>=K:\n",
    "        res=mid\n",
    "        lt=mid+1 #어차피 나오니까 하나더 크게    \n",
    "    elif count(mid)<K:\n",
    "        rt=mid-1 #하나만 더 작게 진행\n",
    "print(res)"
   ]
  }
 ],
 "metadata": {
  "kernelspec": {
   "display_name": "Python 3 (ipykernel)",
   "language": "python",
   "name": "python3"
  },
  "language_info": {
   "codemirror_mode": {
    "name": "ipython",
    "version": 3
   },
   "file_extension": ".py",
   "mimetype": "text/x-python",
   "name": "python",
   "nbconvert_exporter": "python",
   "pygments_lexer": "ipython3",
   "version": "3.7.15"
  }
 },
 "nbformat": 4,
 "nbformat_minor": 5
}
