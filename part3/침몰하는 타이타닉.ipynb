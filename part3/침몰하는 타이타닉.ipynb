{
 "cells": [
  {
   "cell_type": "code",
   "execution_count": 19,
   "id": "c750fef4-b668-473c-8b7c-3c21861c8b9e",
   "metadata": {
    "tags": []
   },
   "outputs": [
    {
     "name": "stdin",
     "output_type": "stream",
     "text": [
      " 10 150\n",
      " 86 95 107 67 38 49 116 22 78 53 \n"
     ]
    },
    {
     "name": "stdout",
     "output_type": "stream",
     "text": [
      "5\n"
     ]
    }
   ],
   "source": [
    "N, M=map(int,input().split())\n",
    "A=list(map(int,input().split()))\n",
    "A.sort(reverse=True)\n",
    "cnt=0\n",
    "while len(A)>0:\n",
    "    if len(A)>=2:\n",
    "        if max(A)+min(A)<=M:\n",
    "            cnt+=1\n",
    "            A.pop(0)\n",
    "            A.pop(-1)\n",
    "        elif max(A)+min(A)>M:\n",
    "            cnt+=1\n",
    "            A.pop(0)\n",
    "    else:\n",
    "        A.pop(0)\n",
    "        cnt+=1\n",
    "print(cnt)"
   ]
  }
 ],
 "metadata": {
  "kernelspec": {
   "display_name": "Python 3 (ipykernel)",
   "language": "python",
   "name": "python3"
  },
  "language_info": {
   "codemirror_mode": {
    "name": "ipython",
    "version": 3
   },
   "file_extension": ".py",
   "mimetype": "text/x-python",
   "name": "python",
   "nbconvert_exporter": "python",
   "pygments_lexer": "ipython3",
   "version": "3.7.15"
  }
 },
 "nbformat": 4,
 "nbformat_minor": 5
}
