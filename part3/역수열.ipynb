{
 "cells": [
  {
   "cell_type": "code",
   "execution_count": 25,
   "id": "02ea35db-fab8-4283-9820-16a7e1dc1071",
   "metadata": {
    "tags": []
   },
   "outputs": [
    {
     "name": "stdin",
     "output_type": "stream",
     "text": [
      " 8\n",
      " 5 3 4 0 2 1 1 0\n"
     ]
    }
   ],
   "source": [
    "N=int(input())\n",
    "A=list(map(int,input().split()))\n",
    "result=[0]*N"
   ]
  },
  {
   "cell_type": "code",
   "execution_count": 10,
   "id": "528c70ac-349e-4959-88ca-5489298137b8",
   "metadata": {
    "tags": []
   },
   "outputs": [
    {
     "name": "stdout",
     "output_type": "stream",
     "text": [
      "4 8 6 2 5 1 3 7\n"
     ]
    }
   ],
   "source": [
    "#강사풀이\n",
    "N=int(input())\n",
    "A=list(map(int,input().split()))\n",
    "result=[0]*N\n",
    "\n",
    "result=[0]*N\n",
    "for i in range(N):\n",
    "    for j in range(N):\n",
    "        if A[i]==0 and result[j]==0:\n",
    "            result[j]=i+1\n",
    "            break\n",
    "        elif result[j]==0:\n",
    "            A[i]-=1\n",
    "print(*result) "
   ]
  },
  {
   "cell_type": "code",
   "execution_count": 35,
   "id": "bb335e1b-add1-4f5d-83da-5187462be0d8",
   "metadata": {
    "tags": []
   },
   "outputs": [
    {
     "data": {
      "text/plain": [
       "[5, 3, 4, 0, 2, 1, 1, 0]"
      ]
     },
     "execution_count": 35,
     "metadata": {},
     "output_type": "execute_result"
    }
   ],
   "source": [
    "A"
   ]
  },
  {
   "cell_type": "code",
   "execution_count": 43,
   "id": "c56f859c-33b0-4f2e-a359-c8c919c8b893",
   "metadata": {
    "tags": []
   },
   "outputs": [
    {
     "name": "stdin",
     "output_type": "stream",
     "text": [
      " 8\n",
      " 5 3 4 0 2 1 1 0\n"
     ]
    },
    {
     "name": "stdout",
     "output_type": "stream",
     "text": [
      "4 8 6 2 5 1 3 7\n"
     ]
    }
   ],
   "source": [
    "#내풀이\n",
    "N=int(input())\n",
    "A=list(map(int,input().split()))\n",
    "result=[0]*N\n",
    "\n",
    "result=[0]*N\n",
    "cnt=0\n",
    "for i in range(N):\n",
    "    for j in range(N):\n",
    "        if cnt==A[i]:\n",
    "            if result[j]==0:\n",
    "                result[j]=i+1\n",
    "                cnt=0\n",
    "                break\n",
    "            else:\n",
    "                pass\n",
    "        else:\n",
    "            if result[j]==0 or result[j]>i+1:\n",
    "                cnt+=1\n",
    "            elif result[j]<i+1:\n",
    "                pass\n",
    "            \n",
    "print(*result)"
   ]
  },
  {
   "cell_type": "code",
   "execution_count": 42,
   "id": "7da70f8c-71ae-44e2-b457-96a9d5c1ac8c",
   "metadata": {
    "tags": []
   },
   "outputs": [
    {
     "data": {
      "text/plain": [
       "[4, 8, 6, 2, 5, 1, 3, 7]"
      ]
     },
     "execution_count": 42,
     "metadata": {},
     "output_type": "execute_result"
    }
   ],
   "source": [
    "result"
   ]
  },
  {
   "cell_type": "code",
   "execution_count": null,
   "id": "0ba2db71-6a7b-4981-b251-1ed44ea3f278",
   "metadata": {},
   "outputs": [],
   "source": []
  }
 ],
 "metadata": {
  "kernelspec": {
   "display_name": "Python 3 (ipykernel)",
   "language": "python",
   "name": "python3"
  },
  "language_info": {
   "codemirror_mode": {
    "name": "ipython",
    "version": 3
   },
   "file_extension": ".py",
   "mimetype": "text/x-python",
   "name": "python",
   "nbconvert_exporter": "python",
   "pygments_lexer": "ipython3",
   "version": "3.7.15"
  }
 },
 "nbformat": 4,
 "nbformat_minor": 5
}
