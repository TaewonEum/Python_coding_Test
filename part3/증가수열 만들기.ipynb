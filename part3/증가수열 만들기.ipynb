{
 "cells": [
  {
   "cell_type": "code",
   "execution_count": 54,
   "id": "75749cdf-df1f-4ea5-8cf6-8b738c392c0a",
   "metadata": {
    "tags": []
   },
   "outputs": [
    {
     "name": "stdin",
     "output_type": "stream",
     "text": [
      " 5\n",
      " 1 3 5 2 4\n"
     ]
    },
    {
     "name": "stdout",
     "output_type": "stream",
     "text": [
      "4\n",
      "LLRL\n"
     ]
    }
   ],
   "source": [
    "N=int(input())\n",
    "A=list(map(int,input().split()))\n",
    "result=''\n",
    "\n",
    "if A[0]>A[-1]:\n",
    "    result+='R'\n",
    "    number=A[-1]\n",
    "    A.pop(-1)\n",
    "else:\n",
    "    result+='L'\n",
    "    number=A[0]\n",
    "    A.pop(0)\n",
    "    \n",
    "for _ in range(len(A)):\n",
    "    if len(A)>1:\n",
    "        if number<A[0] and number<A[-1] and A[0]<A[-1]:\n",
    "            number=A[0]\n",
    "            A.pop(0)\n",
    "            result+='L'\n",
    "        elif number<A[0] and number<A[-1] and A[0]>A[-1]:\n",
    "            number=A[-1]\n",
    "            A.pop(-1)\n",
    "            result+='R'\n",
    "        elif number<A[0] and number > A[-1]:\n",
    "            number=A[0]\n",
    "            A.pop(0)\n",
    "            result+='L'\n",
    "        elif number<A[-1] and number > A[0]:\n",
    "            number=A[-1]\n",
    "            A.pop(-1)\n",
    "            result+='R'          \n",
    "        else:\n",
    "            break            \n",
    "    else:\n",
    "        if number<A[0]:\n",
    "            result+='L'\n",
    "        else:\n",
    "            break \n",
    "print(len(result))          \n",
    "print(result)"
   ]
  },
  {
   "cell_type": "code",
   "execution_count": 53,
   "id": "4d3f8703-3ad6-4a6f-964f-31dc1978c8c5",
   "metadata": {
    "tags": []
   },
   "outputs": [
    {
     "name": "stdout",
     "output_type": "stream",
     "text": [
      "LLRL\n"
     ]
    }
   ],
   "source": [
    "print(result)"
   ]
  },
  {
   "cell_type": "code",
   "execution_count": null,
   "id": "027d340a-93aa-4de6-a8d6-b7080eb22c3c",
   "metadata": {},
   "outputs": [],
   "source": []
  }
 ],
 "metadata": {
  "kernelspec": {
   "display_name": "Python 3 (ipykernel)",
   "language": "python",
   "name": "python3"
  },
  "language_info": {
   "codemirror_mode": {
    "name": "ipython",
    "version": 3
   },
   "file_extension": ".py",
   "mimetype": "text/x-python",
   "name": "python",
   "nbconvert_exporter": "python",
   "pygments_lexer": "ipython3",
   "version": "3.7.15"
  }
 },
 "nbformat": 4,
 "nbformat_minor": 5
}
