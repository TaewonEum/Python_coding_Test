{
 "cells": [
  {
   "cell_type": "code",
   "execution_count": 12,
   "id": "e616fb4c-6390-433b-bb79-0fc7e4f825a0",
   "metadata": {},
   "outputs": [
    {
     "name": "stdin",
     "output_type": "stream",
     "text": [
      " 5\n",
      " 1 4\n",
      " 2 3\n",
      " 3 5\n",
      " 4 6\n",
      " 5 7\n"
     ]
    },
    {
     "name": "stdout",
     "output_type": "stream",
     "text": [
      "3\n"
     ]
    }
   ],
   "source": [
    "N=int(input())\n",
    "\n",
    "A=[]\n",
    "for _ in range(N):\n",
    "    A.append(list(map(int,input().split())))\n",
    "A=sorted(A,key=lambda x: x[1])   \n",
    "\n",
    "cnt=0\n",
    "end_time=0\n",
    "for x,y in A:\n",
    "    if x>=end_time:\n",
    "        end_time=y\n",
    "        cnt+=1\n",
    "print(cnt)"
   ]
  }
 ],
 "metadata": {
  "kernelspec": {
   "display_name": "Python 3 (ipykernel)",
   "language": "python",
   "name": "python3"
  },
  "language_info": {
   "codemirror_mode": {
    "name": "ipython",
    "version": 3
   },
   "file_extension": ".py",
   "mimetype": "text/x-python",
   "name": "python",
   "nbconvert_exporter": "python",
   "pygments_lexer": "ipython3",
   "version": "3.7.15"
  }
 },
 "nbformat": 4,
 "nbformat_minor": 5
}
