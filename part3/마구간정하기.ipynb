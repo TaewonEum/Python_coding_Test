{
 "cells": [
  {
   "cell_type": "code",
   "execution_count": 42,
   "id": "9a0907cb-47b9-4835-9d76-234cafe25860",
   "metadata": {
    "tags": []
   },
   "outputs": [
    {
     "name": "stdin",
     "output_type": "stream",
     "text": [
      " 5 3\n",
      " 1\n",
      " 2\n",
      " 8\n",
      " 4\n",
      " 9\n"
     ]
    }
   ],
   "source": [
    "N,C=map(int,input().split())\n",
    "\n",
    "A=[]\n",
    "for _ in range(N):\n",
    "    A.append(int(input()))\n",
    "    A.sort()"
   ]
  },
  {
   "cell_type": "code",
   "execution_count": 65,
   "id": "3be0b4a2-5f52-4c20-9982-6cd7b8ca1ce6",
   "metadata": {
    "tags": []
   },
   "outputs": [],
   "source": [
    "def count(mid):\n",
    "    cnt=1\n",
    "    start=A[0]\n",
    "    for i in range(1,N):\n",
    "        if A[i]-start>=mid:\n",
    "            cnt+=1\n",
    "            start=A[i]\n",
    "        else:\n",
    "            pass\n",
    "    return cnt"
   ]
  },
  {
   "cell_type": "code",
   "execution_count": 75,
   "id": "6f5339bb-b398-4106-b097-7b4ef0e9f4ec",
   "metadata": {
    "tags": []
   },
   "outputs": [
    {
     "name": "stdout",
     "output_type": "stream",
     "text": [
      "3\n"
     ]
    }
   ],
   "source": [
    "res=0\n",
    "lt=min(A)\n",
    "rt=max(A)\n",
    "while lt<=rt:\n",
    "    mid=(lt+rt)//2\n",
    "    if count(mid)>=C:\n",
    "        res=mid\n",
    "        lt=mid+1\n",
    "    else:\n",
    "        rt=mid-1\n",
    "print(res)"
   ]
  },
  {
   "cell_type": "code",
   "execution_count": 41,
   "id": "5591a9e1-5ad6-423a-b117-26959b5cae69",
   "metadata": {
    "tags": []
   },
   "outputs": [
    {
     "data": {
      "text/plain": [
       "7"
      ]
     },
     "execution_count": 41,
     "metadata": {},
     "output_type": "execute_result"
    }
   ],
   "source": [
    "res"
   ]
  },
  {
   "cell_type": "code",
   "execution_count": null,
   "id": "fa719fbe-3f9b-42ff-b1e6-a531556f6cdd",
   "metadata": {},
   "outputs": [],
   "source": []
  }
 ],
 "metadata": {
  "kernelspec": {
   "display_name": "Python 3 (ipykernel)",
   "language": "python",
   "name": "python3"
  },
  "language_info": {
   "codemirror_mode": {
    "name": "ipython",
    "version": 3
   },
   "file_extension": ".py",
   "mimetype": "text/x-python",
   "name": "python",
   "nbconvert_exporter": "python",
   "pygments_lexer": "ipython3",
   "version": "3.7.15"
  }
 },
 "nbformat": 4,
 "nbformat_minor": 5
}
