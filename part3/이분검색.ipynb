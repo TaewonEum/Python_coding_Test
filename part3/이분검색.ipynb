{
 "cells": [
  {
   "cell_type": "code",
   "execution_count": 10,
   "id": "022527b1-0d57-43a3-9842-a45619982ee4",
   "metadata": {
    "tags": []
   },
   "outputs": [
    {
     "name": "stdout",
     "output_type": "stream",
     "text": [
      "3\n"
     ]
    }
   ],
   "source": [
    "# N, M=map(int,input().split())\n",
    "# A=list(map(int,input().split()))\n",
    "\n",
    "def solution(A):\n",
    "    A.sort() #reverse=True\n",
    "    print(A.index(M)+1)\n",
    "    \n",
    "solution(A)"
   ]
  },
  {
   "cell_type": "code",
   "execution_count": 13,
   "id": "954cbf85-6451-4dd5-9d10-6ae5d3ee03bf",
   "metadata": {
    "tags": []
   },
   "outputs": [
    {
     "name": "stdout",
     "output_type": "stream",
     "text": [
      "3\n"
     ]
    }
   ],
   "source": [
    "# N, M=map(int,input().split())\n",
    "# A=list(map(int,input().split()))\n",
    "A.sort()\n",
    "lt=0\n",
    "rt=N-1\n",
    "while lt<=rt:\n",
    "    mid=(lt+rt)//2\n",
    "    if A[mid]==M:\n",
    "        print(mid+1)\n",
    "        break\n",
    "    elif A[mid]>M:\n",
    "        rt=mid-1\n",
    "    else:\n",
    "        lt=mid+1"
   ]
  },
  {
   "cell_type": "code",
   "execution_count": null,
   "id": "eea4044f-4cc7-4726-bd96-4ac904fd7562",
   "metadata": {},
   "outputs": [],
   "source": []
  }
 ],
 "metadata": {
  "kernelspec": {
   "display_name": "Python 3 (ipykernel)",
   "language": "python",
   "name": "python3"
  },
  "language_info": {
   "codemirror_mode": {
    "name": "ipython",
    "version": 3
   },
   "file_extension": ".py",
   "mimetype": "text/x-python",
   "name": "python",
   "nbconvert_exporter": "python",
   "pygments_lexer": "ipython3",
   "version": "3.7.15"
  }
 },
 "nbformat": 4,
 "nbformat_minor": 5
}
