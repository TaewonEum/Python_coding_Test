{
 "cells": [
  {
   "cell_type": "code",
   "execution_count": 21,
   "id": "c20e957b-aa97-4265-a1e7-b859f4afce39",
   "metadata": {},
   "outputs": [
    {
     "name": "stdin",
     "output_type": "stream",
     "text": [
      " 200000\n"
     ]
    },
    {
     "name": "stdout",
     "output_type": "stream",
     "text": [
      "17984\n"
     ]
    }
   ],
   "source": [
    "N=int(input())\n",
    "ch=[0]*(N+1)\n",
    "cnt=0\n",
    "for i in range(2,N+1):\n",
    "    if ch[i]==0:\n",
    "        cnt+=1\n",
    "        for j in range(i,N+1,i):\n",
    "            ch[j]=1\n",
    "print(cnt)"
   ]
  }
 ],
 "metadata": {
  "kernelspec": {
   "display_name": "Python 3 (ipykernel)",
   "language": "python",
   "name": "python3"
  },
  "language_info": {
   "codemirror_mode": {
    "name": "ipython",
    "version": 3
   },
   "file_extension": ".py",
   "mimetype": "text/x-python",
   "name": "python",
   "nbconvert_exporter": "python",
   "pygments_lexer": "ipython3",
   "version": "3.9.13"
  }
 },
 "nbformat": 4,
 "nbformat_minor": 5
}
