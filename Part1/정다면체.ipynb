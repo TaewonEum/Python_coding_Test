{
 "cells": [
  {
   "cell_type": "code",
   "execution_count": 26,
   "id": "e1610c98-c6c3-4258-b86e-3a6d686d2bc9",
   "metadata": {
    "tags": []
   },
   "outputs": [
    {
     "name": "stdin",
     "output_type": "stream",
     "text": [
      " 4 6\n"
     ]
    },
    {
     "name": "stdout",
     "output_type": "stream",
     "text": [
      "5 6 7\n"
     ]
    }
   ],
   "source": [
    "N,M=map(int,input().split())\n",
    "from collections import Counter\n",
    "\n",
    "sum_list=[]\n",
    "answer=[]\n",
    "for i in range(1,N+1):\n",
    "    for j in range(1,M+1):\n",
    "        sum_list.append(i+j)\n",
    "sum_list=Counter(sum_list)\n",
    "count=list(sum_list.values())\n",
    "max_value=max(count)\n",
    "\n",
    "for i,j in enumerate(count):\n",
    "    if j==max(count):\n",
    "        answer.append(list(sum_list.keys())[i])\n",
    "print(*answer)"
   ]
  },
  {
   "cell_type": "code",
   "execution_count": null,
   "id": "83bc0a22-6c00-480d-ab3f-34f3849ffee1",
   "metadata": {},
   "outputs": [],
   "source": []
  }
 ],
 "metadata": {
  "kernelspec": {
   "display_name": "Python 3 (ipykernel)",
   "language": "python",
   "name": "python3"
  },
  "language_info": {
   "codemirror_mode": {
    "name": "ipython",
    "version": 3
   },
   "file_extension": ".py",
   "mimetype": "text/x-python",
   "name": "python",
   "nbconvert_exporter": "python",
   "pygments_lexer": "ipython3",
   "version": "3.7.15"
  }
 },
 "nbformat": 4,
 "nbformat_minor": 5
}
