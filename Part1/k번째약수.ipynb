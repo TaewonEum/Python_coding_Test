{
 "cells": [
  {
   "cell_type": "code",
   "execution_count": 1,
   "id": "529c793a-347e-4564-939d-93bbb3bc2e1a",
   "metadata": {
    "tags": []
   },
   "outputs": [],
   "source": [
    "# Test"
   ]
  },
  {
   "cell_type": "code",
   "execution_count": 15,
   "id": "7b6df2cc-5f5f-441b-ab78-4dd19991ccb5",
   "metadata": {
    "tags": []
   },
   "outputs": [
    {
     "name": "stdin",
     "output_type": "stream",
     "text": [
      " 16 3\n"
     ]
    },
    {
     "name": "stdout",
     "output_type": "stream",
     "text": [
      "4\n"
     ]
    }
   ],
   "source": [
    "import sys\n",
    "#sys.stdin=open(\"input.txt\",\"rt\")\n",
    "n,k=map(int,input().split()) #띄어쓰기는 map으로 읽고 분리해주기\n",
    "\n",
    "result=[]\n",
    "def solution(n,k):\n",
    "    for i in range(1,n+1):\n",
    "        if n%i==0:\n",
    "            result.append(i)\n",
    "        else:\n",
    "            pass\n",
    "    if len(result)<k:\n",
    "        print(-1)\n",
    "    else:\n",
    "        print(result[k-1])\n",
    "        \n",
    "solution(n,k)"
   ]
  },
  {
   "cell_type": "code",
   "execution_count": null,
   "id": "305bb297-f74f-4320-a6d0-96143b4404c1",
   "metadata": {},
   "outputs": [],
   "source": []
  }
 ],
 "metadata": {
  "kernelspec": {
   "display_name": "Python 3 (ipykernel)",
   "language": "python",
   "name": "python3"
  },
  "language_info": {
   "codemirror_mode": {
    "name": "ipython",
    "version": 3
   },
   "file_extension": ".py",
   "mimetype": "text/x-python",
   "name": "python",
   "nbconvert_exporter": "python",
   "pygments_lexer": "ipython3",
   "version": "3.7.15"
  }
 },
 "nbformat": 4,
 "nbformat_minor": 5
}
