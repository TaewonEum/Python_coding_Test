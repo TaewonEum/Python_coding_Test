{
 "cells": [
  {
   "cell_type": "code",
   "execution_count": 3,
   "id": "daaa0812-568a-4aa4-b414-656c15f50772",
   "metadata": {
    "tags": []
   },
   "outputs": [
    {
     "name": "stdin",
     "output_type": "stream",
     "text": [
      " 4 6\n"
     ]
    },
    {
     "name": "stdout",
     "output_type": "stream",
     "text": [
      "5 6 7\n"
     ]
    }
   ],
   "source": [
    "import sys\n",
    "\n",
    "N,M=map(int,input().split())\n",
    "cnt=[0]*(N+M+1)\n",
    "answer=[]\n",
    "for i in range(1,N+1):\n",
    "    for j in range(1,M+1):\n",
    "        cnt[i+j]+=1\n",
    "max_value=max(cnt)\n",
    "for i,j in enumerate(cnt):\n",
    "    if j==max_value:\n",
    "        answer.append(i)\n",
    "print(*answer)"
   ]
  },
  {
   "cell_type": "code",
   "execution_count": 28,
   "id": "a3d45c80-c627-43d3-85be-a3dba872e9bc",
   "metadata": {
    "tags": []
   },
   "outputs": [
    {
     "name": "stdin",
     "output_type": "stream",
     "text": [
      " 4 6\n"
     ]
    },
    {
     "name": "stdout",
     "output_type": "stream",
     "text": [
      "5 6 7 "
     ]
    }
   ],
   "source": [
    "N,M=map(int,input().split())\n",
    "cnt=[0]*(N+M+1)\n",
    "max=-10000000\n",
    "for i in range(1,N+1):\n",
    "    for j in range(1,M+1):\n",
    "        cnt[i+j]+=1\n",
    "for i in range(N+M+1):\n",
    "    if cnt[i]>max:\n",
    "        max=cnt[i]\n",
    "for i in range(N+M+1):\n",
    "    if cnt[i]==max:\n",
    "        print(i, end=' ')"
   ]
  },
  {
   "cell_type": "code",
   "execution_count": null,
   "id": "5f31d64b-35f3-444c-8227-9cd88bbf421c",
   "metadata": {},
   "outputs": [],
   "source": []
  }
 ],
 "metadata": {
  "kernelspec": {
   "display_name": "Python 3 (ipykernel)",
   "language": "python",
   "name": "python3"
  },
  "language_info": {
   "codemirror_mode": {
    "name": "ipython",
    "version": 3
   },
   "file_extension": ".py",
   "mimetype": "text/x-python",
   "name": "python",
   "nbconvert_exporter": "python",
   "pygments_lexer": "ipython3",
   "version": "3.7.15"
  }
 },
 "nbformat": 4,
 "nbformat_minor": 5
}
