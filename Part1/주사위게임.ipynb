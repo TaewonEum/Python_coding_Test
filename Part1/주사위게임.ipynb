{
 "cells": [
  {
   "cell_type": "code",
   "execution_count": 9,
   "id": "87c71871-b249-4bcd-a6e2-1d2d1d906eb3",
   "metadata": {},
   "outputs": [
    {
     "name": "stdin",
     "output_type": "stream",
     "text": [
      " 3\n",
      " 3 3 6\n",
      " 4 4 4 \n",
      " 6 6 6\n"
     ]
    },
    {
     "name": "stdout",
     "output_type": "stream",
     "text": [
      "16000\n"
     ]
    }
   ],
   "source": [
    "N=int(input())\n",
    "\n",
    "sum_list=[]\n",
    "for i in range(N):\n",
    "    a,b,c=map(int,input().split())\n",
    "    if a==b==c:\n",
    "        sum_list.append((a*1000)+10000)\n",
    "    elif a==b|a==c:\n",
    "        sum_list.append(1000+(a*100))\n",
    "    elif b==c:\n",
    "        sum_list.append(1000+(a*100))\n",
    "    else:\n",
    "        sum_list.append(max(a,b,c)*100)\n",
    "print(max(sum_list))"
   ]
  },
  {
   "cell_type": "code",
   "execution_count": null,
   "id": "ef3bd666-579a-4b0b-a4f4-eee5744074b8",
   "metadata": {},
   "outputs": [],
   "source": []
  }
 ],
 "metadata": {
  "kernelspec": {
   "display_name": "Python 3 (ipykernel)",
   "language": "python",
   "name": "python3"
  },
  "language_info": {
   "codemirror_mode": {
    "name": "ipython",
    "version": 3
   },
   "file_extension": ".py",
   "mimetype": "text/x-python",
   "name": "python",
   "nbconvert_exporter": "python",
   "pygments_lexer": "ipython3",
   "version": "3.9.13"
  }
 },
 "nbformat": 4,
 "nbformat_minor": 5
}
