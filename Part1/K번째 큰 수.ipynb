{
 "cells": [
  {
   "cell_type": "code",
   "execution_count": 1,
   "id": "d17f3849-383c-4503-9f8b-8deef7ab0b24",
   "metadata": {
    "tags": []
   },
   "outputs": [],
   "source": [
    "import sys\n",
    "N,K=map(int,input().split())\n",
    "a=list(map(int,input().split()))\n",
    "res=set()\n",
    "for i in range(N):\n",
    "    for j in range(i+1,N):\n",
    "        for k in range(j+1,N):\n",
    "            res.add(a[i]+a[j]+a[k])\n",
    "res=list(res)\n",
    "res.sort(reverse=True)\n",
    "print(res[K-1])"
   ]
  },
  {
   "cell_type": "code",
   "execution_count": null,
   "id": "660009b5-cf0f-4e19-b170-a1be32b823b9",
   "metadata": {},
   "outputs": [],
   "source": []
  }
 ],
 "metadata": {
  "kernelspec": {
   "display_name": "Python 3 (ipykernel)",
   "language": "python",
   "name": "python3"
  },
  "language_info": {
   "codemirror_mode": {
    "name": "ipython",
    "version": 3
   },
   "file_extension": ".py",
   "mimetype": "text/x-python",
   "name": "python",
   "nbconvert_exporter": "python",
   "pygments_lexer": "ipython3",
   "version": "3.7.15"
  }
 },
 "nbformat": 4,
 "nbformat_minor": 5
}
