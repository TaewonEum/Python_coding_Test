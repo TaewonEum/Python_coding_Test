{
 "cells": [
  {
   "cell_type": "code",
   "execution_count": 43,
   "id": "362ceb16-e4e6-40a7-acca-03bc56199e37",
   "metadata": {},
   "outputs": [
    {
     "name": "stdin",
     "output_type": "stream",
     "text": [
      " 27\n",
      " 469 84 8851 189 69 1210 682 57 6217 484 8 3590 662 36 8275 887 17 1254 462 67 8969 141 70 5603 958 100 3843 \n"
     ]
    },
    {
     "name": "stdout",
     "output_type": "stream",
     "text": [
      "953 71 7 859\n"
     ]
    }
   ],
   "source": [
    "N=int(input())\n",
    "A=list(map(str,input().split()))\n",
    "\n",
    "def reverse(x):\n",
    "    rev_list=[]\n",
    "    for i in range(N):\n",
    "        a=''\n",
    "        for j in reversed(x[i]): #for문 반대로\n",
    "            a+=j\n",
    "        rev_list.append(int(a))\n",
    "    return rev_list\n",
    "            \n",
    "A=reverse(A)\n",
    "\n",
    "def isPrime(x):\n",
    "    prime=[]\n",
    "    for i in range(N):\n",
    "        cnt=0\n",
    "        for j in range(2,x[i]):\n",
    "            if x[i] % j==0 and cnt == 0:\n",
    "                cnt+=1\n",
    "                break\n",
    "            else:\n",
    "                pass\n",
    "        if cnt==0 and x[i] != 1:\n",
    "            prime.append(x[i])\n",
    "    print(*prime)\n",
    "\n",
    "isPrime(A)"
   ]
  },
  {
   "cell_type": "code",
   "execution_count": null,
   "id": "c73b0bd2-c7cd-4f42-ac96-1dede77ca1bb",
   "metadata": {},
   "outputs": [],
   "source": []
  }
 ],
 "metadata": {
  "kernelspec": {
   "display_name": "Python 3 (ipykernel)",
   "language": "python",
   "name": "python3"
  },
  "language_info": {
   "codemirror_mode": {
    "name": "ipython",
    "version": 3
   },
   "file_extension": ".py",
   "mimetype": "text/x-python",
   "name": "python",
   "nbconvert_exporter": "python",
   "pygments_lexer": "ipython3",
   "version": "3.9.13"
  }
 },
 "nbformat": 4,
 "nbformat_minor": 5
}
