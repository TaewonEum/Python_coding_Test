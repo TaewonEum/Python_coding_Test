{
 "cells": [
  {
   "cell_type": "code",
   "execution_count": 44,
   "id": "28ae8b8b-97ed-45bf-9324-ebe6306ff85c",
   "metadata": {
    "tags": []
   },
   "outputs": [
    {
     "name": "stdin",
     "output_type": "stream",
     "text": [
      " 5\n",
      " 1 2 3 4 5\n"
     ]
    },
    {
     "name": "stdout",
     "output_type": "stream",
     "text": [
      "3 3\n"
     ]
    }
   ],
   "source": [
    "import sys\n",
    "N=int(input())\n",
    "a=list(map(int,input().split()))\n",
    "ave=int(round(sum(a)/len(a),0))\n",
    "if ave in a:\n",
    "    print(ave, a.index(ave)+1)\n",
    "else:\n",
    "    for i in range(N):\n",
    "        if i==0:\n",
    "            b=abs(ave-a[i])\n",
    "            idx=i+1\n",
    "            real=a[i]\n",
    "        else:\n",
    "            if b < abs(ave-a[i]):\n",
    "                pass\n",
    "            elif b>abs(ave-a[i]):\n",
    "                b=abs(ave-a[i])\n",
    "                idx=i+1\n",
    "                real=a[i]\n",
    "            elif b==abs(ave-a[i]) and real < a[i]:\n",
    "                idx=i+1\n",
    "                real=a[i]\n",
    "            else:\n",
    "                pass\n",
    "                \n",
    "    print(ave,idx)"
   ]
  }
 ],
 "metadata": {
  "kernelspec": {
   "display_name": "Python 3 (ipykernel)",
   "language": "python",
   "name": "python3"
  },
  "language_info": {
   "codemirror_mode": {
    "name": "ipython",
    "version": 3
   },
   "file_extension": ".py",
   "mimetype": "text/x-python",
   "name": "python",
   "nbconvert_exporter": "python",
   "pygments_lexer": "ipython3",
   "version": "3.7.15"
  }
 },
 "nbformat": 4,
 "nbformat_minor": 5
}
